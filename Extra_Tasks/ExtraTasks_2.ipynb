{
  "nbformat": 4,
  "nbformat_minor": 0,
  "metadata": {
    "colab": {
      "provenance": [],
      "authorship_tag": "ABX9TyMeQxcjUrm3lG5msyEhmXba",
      "include_colab_link": true
    },
    "kernelspec": {
      "name": "python3",
      "display_name": "Python 3"
    },
    "language_info": {
      "name": "python"
    }
  },
  "cells": [
    {
      "cell_type": "markdown",
      "metadata": {
        "id": "view-in-github",
        "colab_type": "text"
      },
      "source": [
        "<a href=\"https://colab.research.google.com/github/fossti/university/blob/main/Extra_Tasks/ExtraTasks_2.ipynb\" target=\"_parent\"><img src=\"https://colab.research.google.com/assets/colab-badge.svg\" alt=\"Open In Colab\"/></a>"
      ]
    },
    {
      "cell_type": "code",
      "execution_count": 37,
      "metadata": {
        "id": "91HmAx_eO419",
        "colab": {
          "base_uri": "https://localhost:8080/"
        },
        "outputId": "5cd63f1e-1adb-4fda-f922-8f36b1363a09"
      },
      "outputs": [
        {
          "name": "stdout",
          "output_type": "stream",
          "text": [
            "Выберите функцию\n",
            "1. Добавыить контакт\n",
            "2. Удалить контакт\n",
            "3. Показать список контактов\n",
            "4. Изменить номер\n",
            "5. Выход\n",
            " Введите номер функции1\n",
            "Введите имя контакта bob\n",
            "Введите номер контакта 79232344556\n",
            "контакт успешно добавлен\n",
            "Выберите функцию\n",
            "1. Добавыить контакт\n",
            "2. Удалить контакт\n",
            "3. Показать список контактов\n",
            "4. Изменить номер\n",
            "5. Выход\n",
            " Введите номер функции5\n"
          ]
        }
      ],
      "source": [
        "def Standartize_name (name: str) -> str:\n",
        "  return name.title()\n",
        "\n",
        "def Standartize_phone(phone: str) -> str:\n",
        "  phone_digits = ''.join(char for char in phone if char.isdigit())\n",
        "\n",
        "  if len(phone_digits) == 10:\n",
        "    return '+7' + phone_digits\n",
        "\n",
        "  elif len(phone_digits) == 11:\n",
        "    return '+7' + phone_digits[1:]\n",
        "\n",
        "  return '+7' + phone_digits\n",
        "\n",
        "def add_contact(phone_book):\n",
        "  name = input('Введите имя контакта ')\n",
        "  phone = input('Введите номер контакта ')\n",
        "\n",
        "  Standartized_name = Standartize_name(name)\n",
        "  Standartized_phone = Standartize_phone(phone)\n",
        "\n",
        "  new_phone_book = dict(phone_book).copy()\n",
        "  new_phone_book[Standartized_name] = Standartize_phone\n",
        "  print('контакт успешно добавлен')\n",
        "  return new_phone_book\n",
        "\n",
        "def del_contact(phone_book):\n",
        "  name = input('Введите имя контакта')\n",
        "  Standartized_name = Standartize_name(name)\n",
        "\n",
        "  if Standartized_name in phone_book:\n",
        "    new_phone_book = phone_book.copy()\n",
        "    del new_phone_book[Standartized_name]\n",
        "    print('Контакт успешно удален')\n",
        "    return new_phone_book\n",
        "  else:\n",
        "    return phone_book\n",
        "\n",
        "\n",
        "def view_contact(phone_book):\n",
        "  if not phone_book:\n",
        "    print('Телефонная книга пуста')\n",
        "  else:\n",
        "    for name, phone in phone_book.items():\n",
        "      print(f'{name}: {phone}')\n",
        "\n",
        "def edit_contact(phone_book):\n",
        "  name = input('Введите имя контакта: ')\n",
        "  Standartized_name = Standartize_name(name)\n",
        "\n",
        "  if Standartized_name in phone_book:\n",
        "    new_phone = input('Введите номер телефона: ')\n",
        "    Standartized_phone = Standartize_phone(new_phone)\n",
        "def menu():\n",
        "  phone_book = ()\n",
        "  while True:\n",
        "    print(\"Выберите функцию\")\n",
        "    print(\"1. Добавыить контакт\")\n",
        "    print(\"2. Удалить контакт\")\n",
        "    print(\"3. Показать список контактов\")\n",
        "    print(\"4. Изменить номер\")\n",
        "    print(\"5. Выход\")\n",
        "\n",
        "    choice = input(' Введите номер функции')\n",
        "\n",
        "    if choice == '1':\n",
        "      phone_book = add_contact(phone_book)\n",
        "    elif choice == '2':\n",
        "      phone_book = del_contact(phone_book)\n",
        "    elif choice == '3':\n",
        "      phone_book = view_contact(phone_book)\n",
        "    elif choice == '4':\n",
        "      phone_book = edit_contact(phone_book)\n",
        "    elif choice == '5':\n",
        "      break\n",
        "    else:\n",
        "      print(\"Ошибка, попробуйте снова\")\n",
        "      continue\n",
        "menu()"
      ]
    }
  ]
}